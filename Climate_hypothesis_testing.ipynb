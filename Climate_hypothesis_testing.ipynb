{
 "cells": [
  {
   "cell_type": "code",
   "execution_count": 68,
   "id": "a8dab189",
   "metadata": {},
   "outputs": [
    {
     "data": {
      "text/html": [
       "<div>\n",
       "<style scoped>\n",
       "    .dataframe tbody tr th:only-of-type {\n",
       "        vertical-align: middle;\n",
       "    }\n",
       "\n",
       "    .dataframe tbody tr th {\n",
       "        vertical-align: top;\n",
       "    }\n",
       "\n",
       "    .dataframe thead th {\n",
       "        text-align: right;\n",
       "    }\n",
       "</style>\n",
       "<table border=\"1\" class=\"dataframe\">\n",
       "  <thead>\n",
       "    <tr style=\"text-align: right;\">\n",
       "      <th></th>\n",
       "      <th>Unnamed: 0</th>\n",
       "      <th>Year</th>\n",
       "      <th>Jan</th>\n",
       "      <th>Feb</th>\n",
       "      <th>Mar</th>\n",
       "      <th>Apr</th>\n",
       "      <th>May</th>\n",
       "      <th>Jun</th>\n",
       "      <th>Jul</th>\n",
       "      <th>Aug</th>\n",
       "      <th>Sep</th>\n",
       "      <th>Oct</th>\n",
       "      <th>Nov</th>\n",
       "      <th>Dec</th>\n",
       "      <th>Avg</th>\n",
       "    </tr>\n",
       "  </thead>\n",
       "  <tbody>\n",
       "    <tr>\n",
       "      <th>0</th>\n",
       "      <td>0</td>\n",
       "      <td>2000</td>\n",
       "      <td>24.5</td>\n",
       "      <td>31.8</td>\n",
       "      <td>44.0</td>\n",
       "      <td>48.0</td>\n",
       "      <td>61.8</td>\n",
       "      <td>69.4</td>\n",
       "      <td>70.2</td>\n",
       "      <td>70.8</td>\n",
       "      <td>62.4</td>\n",
       "      <td>55.0</td>\n",
       "      <td>40.2</td>\n",
       "      <td>19.2</td>\n",
       "      <td>49.8</td>\n",
       "    </tr>\n",
       "    <tr>\n",
       "      <th>1</th>\n",
       "      <td>1</td>\n",
       "      <td>2001</td>\n",
       "      <td>26.2</td>\n",
       "      <td>29.7</td>\n",
       "      <td>35.1</td>\n",
       "      <td>51.1</td>\n",
       "      <td>61.2</td>\n",
       "      <td>69.5</td>\n",
       "      <td>73.5</td>\n",
       "      <td>74.1</td>\n",
       "      <td>62.3</td>\n",
       "      <td>52.5</td>\n",
       "      <td>47.5</td>\n",
       "      <td>35.9</td>\n",
       "      <td>51.6</td>\n",
       "    </tr>\n",
       "    <tr>\n",
       "      <th>2</th>\n",
       "      <td>2</td>\n",
       "      <td>2002</td>\n",
       "      <td>32.7</td>\n",
       "      <td>32.9</td>\n",
       "      <td>34.8</td>\n",
       "      <td>49.8</td>\n",
       "      <td>54.5</td>\n",
       "      <td>70.8</td>\n",
       "      <td>76.5</td>\n",
       "      <td>73.0</td>\n",
       "      <td>68.8</td>\n",
       "      <td>50.0</td>\n",
       "      <td>39.2</td>\n",
       "      <td>28.7</td>\n",
       "      <td>51.0</td>\n",
       "    </tr>\n",
       "    <tr>\n",
       "      <th>3</th>\n",
       "      <td>3</td>\n",
       "      <td>2003</td>\n",
       "      <td>20.5</td>\n",
       "      <td>23.1</td>\n",
       "      <td>35.5</td>\n",
       "      <td>48.3</td>\n",
       "      <td>56.5</td>\n",
       "      <td>66.6</td>\n",
       "      <td>72.6</td>\n",
       "      <td>72.8</td>\n",
       "      <td>63.1</td>\n",
       "      <td>50.9</td>\n",
       "      <td>44.3</td>\n",
       "      <td>33.1</td>\n",
       "      <td>48.9</td>\n",
       "    </tr>\n",
       "    <tr>\n",
       "      <th>4</th>\n",
       "      <td>4</td>\n",
       "      <td>2004</td>\n",
       "      <td>19.9</td>\n",
       "      <td>28.5</td>\n",
       "      <td>40.4</td>\n",
       "      <td>50.9</td>\n",
       "      <td>60.8</td>\n",
       "      <td>67.1</td>\n",
       "      <td>71.8</td>\n",
       "      <td>68.5</td>\n",
       "      <td>67.4</td>\n",
       "      <td>53.3</td>\n",
       "      <td>43.0</td>\n",
       "      <td>29.7</td>\n",
       "      <td>50.1</td>\n",
       "    </tr>\n",
       "  </tbody>\n",
       "</table>\n",
       "</div>"
      ],
      "text/plain": [
       "   Unnamed: 0  Year   Jan   Feb   Mar   Apr   May   Jun   Jul   Aug   Sep  \\\n",
       "0           0  2000  24.5  31.8  44.0  48.0  61.8  69.4  70.2  70.8  62.4   \n",
       "1           1  2001  26.2  29.7  35.1  51.1  61.2  69.5  73.5  74.1  62.3   \n",
       "2           2  2002  32.7  32.9  34.8  49.8  54.5  70.8  76.5  73.0  68.8   \n",
       "3           3  2003  20.5  23.1  35.5  48.3  56.5  66.6  72.6  72.8  63.1   \n",
       "4           4  2004  19.9  28.5  40.4  50.9  60.8  67.1  71.8  68.5  67.4   \n",
       "\n",
       "    Oct   Nov   Dec   Avg  \n",
       "0  55.0  40.2  19.2  49.8  \n",
       "1  52.5  47.5  35.9  51.6  \n",
       "2  50.0  39.2  28.7  51.0  \n",
       "3  50.9  44.3  33.1  48.9  \n",
       "4  53.3  43.0  29.7  50.1  "
      ]
     },
     "execution_count": 68,
     "metadata": {},
     "output_type": "execute_result"
    }
   ],
   "source": [
    "#Is the average temperature recorded for detroit significantly different \n",
    "#from the national average temperature?\n",
    "\n",
    "#First, i'll import my CSV climate file and the necessary libraries i'll need\n",
    "#to perform my hypothesis\n",
    "\n",
    "from scipy.stats import ttest_1samp\n",
    "import matplotlib.pyplot as plt\n",
    "import numpy as np\n",
    "import pandas as pd\n",
    "\n",
    "det_data = pd.read_csv('Detroit_weather_data.csv')\n",
    "det_data.head()"
   ]
  },
  {
   "cell_type": "code",
   "execution_count": 25,
   "id": "4bec8135",
   "metadata": {},
   "outputs": [
    {
     "name": "stdout",
     "output_type": "stream",
     "text": [
      "     Jan   Feb   Mar   Apr   May   Jun   Jul   Aug   Sep   Oct   Nov   Dec\n",
      "0   24.5  31.8  44.0  48.0  61.8  69.4  70.2  70.8  62.4  55.0  40.2  19.2\n",
      "1   26.2  29.7  35.1  51.1  61.2  69.5  73.5  74.1  62.3  52.5  47.5  35.9\n",
      "2   32.7  32.9  34.8  49.8  54.5  70.8  76.5  73.0  68.8  50.0  39.2  28.7\n",
      "3   20.5  23.1  35.5  48.3  56.5  66.6  72.6  72.8  63.1  50.9  44.3  33.1\n",
      "4   19.9  28.5  40.4  50.9  60.8  67.1  71.8  68.5  67.4  53.3  43.0  29.7\n",
      "5   24.1  28.5  33.1  50.7  56.6  74.0  75.4  74.8  68.3  55.2  43.2  25.8\n",
      "6   35.2  29.8  38.0  52.2  60.7  69.3  76.0  72.9  62.0  49.7  42.5  37.4\n",
      "7   29.6  19.4  40.1  47.6  61.6  71.3  72.0  73.8  66.7  59.1  40.0  29.6\n",
      "8   29.0  25.2  33.4  51.8  57.4  70.6  73.2  72.0  66.3  50.6  39.0  27.4\n",
      "9   17.3  28.5  38.7  49.8  59.5  67.8  68.9  71.2  66.0  50.0  45.3  29.2\n",
      "10  25.1  27.9  42.4  54.2  62.7  71.4  76.6  75.2  64.5  55.0  42.0  25.6\n",
      "11  21.9  24.8  35.0  47.3  60.7  70.6  79.3  73.2  64.4  54.4  46.5  35.5\n",
      "12  30.7  32.6  50.7  49.4  65.3  72.3  79.0  73.0  64.1  52.7  40.3  35.9\n",
      "13  28.7  27.2  34.6  46.5  63.6  69.7  74.0  71.9  64.1  53.3  37.5  26.8\n",
      "14  16.4  19.4  28.6  48.9  61.4  70.5  69.9  71.5  63.5  52.0  35.8  33.6\n",
      "15  21.2  14.1  34.5  50.0  64.5  68.8  72.9  71.8  69.3  54.5  46.0  41.1\n",
      "16  28.1  31.2  43.1  46.3  61.0  71.2  76.8  76.8  68.2  55.9  46.7  29.1\n",
      "17  32.1  38.0  37.0  54.3  59.0  71.1  74.4  71.0  67.0  57.3  40.4  26.6\n",
      "18  24.6  31.0  35.5  43.0  66.2  71.5  75.9  75.8  69.0  52.7  37.1  34.5\n",
      "19  23.9  28.2  34.4  49.0  58.8  68.2  76.8  73.1  68.6  54.0  35.8  35.1\n",
      "20  32.4  30.1  41.2  46.0  57.7  71.1  77.4  73.5  63.4  51.0  45.7  32.9\n"
     ]
    }
   ],
   "source": [
    "#Let's remove our Year and Avg columns to just get the recordings\n",
    "\n",
    "parsed_data = det_data.iloc[:, 2:14]\n",
    "print(parsed_data)"
   ]
  },
  {
   "cell_type": "code",
   "execution_count": 50,
   "id": "47c2b765",
   "metadata": {},
   "outputs": [
    {
     "name": "stdout",
     "output_type": "stream",
     "text": [
      "[[24.5, 31.8, 44.0, 48.0, 61.8, 69.4, 70.2, 70.8, 62.4, 55.0, 40.2, 19.2], [26.2, 29.7, 35.1, 51.1, 61.2, 69.5, 73.5, 74.1, 62.3, 52.5, 47.5, 35.9], [32.7, 32.9, 34.8, 49.8, 54.5, 70.8, 76.5, 73.0, 68.8, 50.0, 39.2, 28.7], [20.5, 23.1, 35.5, 48.3, 56.5, 66.6, 72.6, 72.8, 63.1, 50.9, 44.3, 33.1], [19.9, 28.5, 40.4, 50.9, 60.8, 67.1, 71.8, 68.5, 67.4, 53.3, 43.0, 29.7], [24.1, 28.5, 33.1, 50.7, 56.6, 74.0, 75.4, 74.8, 68.3, 55.2, 43.2, 25.8], [35.2, 29.8, 38.0, 52.2, 60.7, 69.3, 76.0, 72.9, 62.0, 49.7, 42.5, 37.4], [29.6, 19.4, 40.1, 47.6, 61.6, 71.3, 72.0, 73.8, 66.7, 59.1, 40.0, 29.6], [29.0, 25.2, 33.4, 51.8, 57.4, 70.6, 73.2, 72.0, 66.3, 50.6, 39.0, 27.4], [17.3, 28.5, 38.7, 49.8, 59.5, 67.8, 68.9, 71.2, 66.0, 50.0, 45.3, 29.2], [25.1, 27.9, 42.4, 54.2, 62.7, 71.4, 76.6, 75.2, 64.5, 55.0, 42.0, 25.6], [21.9, 24.8, 35.0, 47.3, 60.7, 70.6, 79.3, 73.2, 64.4, 54.4, 46.5, 35.5], [30.7, 32.6, 50.7, 49.4, 65.3, 72.3, 79.0, 73.0, 64.1, 52.7, 40.3, 35.9], [28.7, 27.2, 34.6, 46.5, 63.6, 69.7, 74.0, 71.9, 64.1, 53.3, 37.5, 26.8], [16.4, 19.4, 28.6, 48.9, 61.4, 70.5, 69.9, 71.5, 63.5, 52.0, 35.8, 33.6], [21.2, 14.1, 34.5, 50.0, 64.5, 68.8, 72.9, 71.8, 69.3, 54.5, 46.0, 41.1], [28.1, 31.2, 43.1, 46.3, 61.0, 71.2, 76.8, 76.8, 68.2, 55.9, 46.7, 29.1], [32.1, 38.0, 37.0, 54.3, 59.0, 71.1, 74.4, 71.0, 67.0, 57.3, 40.4, 26.6], [24.6, 31.0, 35.5, 43.0, 66.2, 71.5, 75.9, 75.8, 69.0, 52.7, 37.1, 34.5], [23.9, 28.2, 34.4, 49.0, 58.8, 68.2, 76.8, 73.1, 68.6, 54.0, 35.8, 35.1], [32.4, 30.1, 41.2, 46.0, 57.7, 71.1, 77.4, 73.5, 63.4, 51.0, 45.7, 32.9]]\n"
     ]
    }
   ],
   "source": [
    "#Now lets convert this data into a list\n",
    "avg_temps = parsed_data.values.tolist()\n",
    "print(avg_temps)"
   ]
  },
  {
   "cell_type": "code",
   "execution_count": 51,
   "id": "8e4ee63a",
   "metadata": {},
   "outputs": [
    {
     "name": "stdout",
     "output_type": "stream",
     "text": [
      "[24.5, 31.8, 44.0, 48.0, 61.8, 69.4, 70.2, 70.8, 62.4, 55.0, 40.2, 19.2, 26.2, 29.7, 35.1, 51.1, 61.2, 69.5, 73.5, 74.1, 62.3, 52.5, 47.5, 35.9, 32.7, 32.9, 34.8, 49.8, 54.5, 70.8, 76.5, 73.0, 68.8, 50.0, 39.2, 28.7, 20.5, 23.1, 35.5, 48.3, 56.5, 66.6, 72.6, 72.8, 63.1, 50.9, 44.3, 33.1, 19.9, 28.5, 40.4, 50.9, 60.8, 67.1, 71.8, 68.5, 67.4, 53.3, 43.0, 29.7, 24.1, 28.5, 33.1, 50.7, 56.6, 74.0, 75.4, 74.8, 68.3, 55.2, 43.2, 25.8, 35.2, 29.8, 38.0, 52.2, 60.7, 69.3, 76.0, 72.9, 62.0, 49.7, 42.5, 37.4, 29.6, 19.4, 40.1, 47.6, 61.6, 71.3, 72.0, 73.8, 66.7, 59.1, 40.0, 29.6, 29.0, 25.2, 33.4, 51.8, 57.4, 70.6, 73.2, 72.0, 66.3, 50.6, 39.0, 27.4, 17.3, 28.5, 38.7, 49.8, 59.5, 67.8, 68.9, 71.2, 66.0, 50.0, 45.3, 29.2, 25.1, 27.9, 42.4, 54.2, 62.7, 71.4, 76.6, 75.2, 64.5, 55.0, 42.0, 25.6, 21.9, 24.8, 35.0, 47.3, 60.7, 70.6, 79.3, 73.2, 64.4, 54.4, 46.5, 35.5, 30.7, 32.6, 50.7, 49.4, 65.3, 72.3, 79.0, 73.0, 64.1, 52.7, 40.3, 35.9, 28.7, 27.2, 34.6, 46.5, 63.6, 69.7, 74.0, 71.9, 64.1, 53.3, 37.5, 26.8, 16.4, 19.4, 28.6, 48.9, 61.4, 70.5, 69.9, 71.5, 63.5, 52.0, 35.8, 33.6, 21.2, 14.1, 34.5, 50.0, 64.5, 68.8, 72.9, 71.8, 69.3, 54.5, 46.0, 41.1, 28.1, 31.2, 43.1, 46.3, 61.0, 71.2, 76.8, 76.8, 68.2, 55.9, 46.7, 29.1, 32.1, 38.0, 37.0, 54.3, 59.0, 71.1, 74.4, 71.0, 67.0, 57.3, 40.4, 26.6, 24.6, 31.0, 35.5, 43.0, 66.2, 71.5, 75.9, 75.8, 69.0, 52.7, 37.1, 34.5, 23.9, 28.2, 34.4, 49.0, 58.8, 68.2, 76.8, 73.1, 68.6, 54.0, 35.8, 35.1, 32.4, 30.1, 41.2, 46.0, 57.7, 71.1, 77.4, 73.5, 63.4, 51.0, 45.7, 32.9]\n"
     ]
    }
   ],
   "source": [
    "#Our list seperated into smaller lists organized by Year, however we want just a list of all the \n",
    "#average recorded temperatures \n",
    "\n",
    "flat_list = []\n",
    "for lists in avg_temps:\n",
    "    for nums in lists:\n",
    "        flat_list.append(nums)\n",
    "\n",
    "print(flat_list)"
   ]
  },
  {
   "cell_type": "code",
   "execution_count": 52,
   "id": "03301416",
   "metadata": {},
   "outputs": [],
   "source": [
    "#Now let's get the mean from this list\n",
    "sample_mean = np.mean(flat_list)"
   ]
  },
  {
   "cell_type": "code",
   "execution_count": 69,
   "id": "35bf5469",
   "metadata": {},
   "outputs": [
    {
     "data": {
      "image/png": "[encoded data removed]",
      "text/plain": [
       "<Figure size 640x480 with 1 Axes>"
      ]
     },
     "metadata": {},
     "output_type": "display_data"
    }
   ],
   "source": [
    "#And now i'll visualize the data to check assumptions that my data is normally distrubted\n",
    "\n",
    "plt.hist(flat_list)\n",
    "plt.show()\n",
    "\n",
    "#Notice that in our plot there is a presence of a bimodial distrubtion \n",
    "#that is not a normal bell curve. However for the sake of this project we will still \n",
    "#proceed with our test"
   ]
  },
  {
   "cell_type": "code",
   "execution_count": 53,
   "id": "5da7a612",
   "metadata": {},
   "outputs": [
    {
     "name": "stdout",
     "output_type": "stream",
     "text": [
      "50.867063492063494\n"
     ]
    }
   ],
   "source": [
    "print(sample_mean)"
   ]
  },
  {
   "cell_type": "code",
   "execution_count": null,
   "id": "021dcf25",
   "metadata": {},
   "outputs": [],
   "source": [
    "#Annual average temperature in the U.S for 2023\n",
    "\n",
    "2023_national_avg_temp = 54.41\n",
    "\n",
    "#Source = 'https://www.statista.com/statistics/500472/annual-average-temperature-in-the-us/#:~:text=The%20average%20temperature%20in%20the,than%20the%2020th%20century%20average.'"
   ]
  },
  {
   "cell_type": "code",
   "execution_count": 87,
   "id": "31cf8967",
   "metadata": {},
   "outputs": [],
   "source": [
    "#Given that were comparing a sample average to a population value, i'll perform a one sample t-test\n",
    "#to calculate the confidence interval with the following Null and Alternative hypothesis\n",
    "\n",
    "#Null: the sample mean is not signifcantly different from the population mean\n",
    "#Alternative: The sample mean is significantly different from the population mean\n",
    "\n",
    "tstat, pval = ttest_1samp(flat_list,54.41)"
   ]
  },
  {
   "cell_type": "code",
   "execution_count": 88,
   "id": "64b1822f",
   "metadata": {},
   "outputs": [
    {
     "name": "stdout",
     "output_type": "stream",
     "text": [
      "0.001561527653200933\n"
     ]
    }
   ],
   "source": [
    "print(pval)"
   ]
  },
  {
   "cell_type": "code",
   "execution_count": null,
   "id": "09ad64c4",
   "metadata": {},
   "outputs": [],
   "source": [
    "#our confidence interval is below 5% and therefore we can assume there is a significant \n",
    "#difference between the average temperature in detroit Michigan from 2000-2020 and the \n",
    "#national average temperature from 2023."
   ]
  }
 ],
 "metadata": {
  "kernelspec": {
   "display_name": "Python 3 (ipykernel)",
   "language": "python",
   "name": "python3"
  },
  "language_info": {
   "codemirror_mode": {
    "name": "ipython",
    "version": 3
   },
   "file_extension": ".py",
   "mimetype": "text/x-python",
   "name": "python",
   "nbconvert_exporter": "python",
   "pygments_lexer": "ipython3",
   "version": "3.11.5"
  }
 },
 "nbformat": 4,
 "nbformat_minor": 5
}
